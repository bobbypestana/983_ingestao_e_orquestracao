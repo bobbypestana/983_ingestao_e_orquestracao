{
 "cells": [
  {
   "cell_type": "markdown",
   "metadata": {},
   "source": [
    "# Publish/Subscribe"
   ]
  },
  {
   "cell_type": "markdown",
   "metadata": {},
   "source": [
    "* **Enviar a mesma mensagem para múltiplos consumidores!**"
   ]
  },
  {
   "attachments": {},
   "cell_type": "markdown",
   "metadata": {},
   "source": [
    "**Problema**\n",
    "* Vamos simular um sistema de logs, que publica mensagens para quem quiser consumir. \n",
    "* Estamos interessados somente em mensagens atuais, sem nos importar com eventos passados."
   ]
  },
  {
   "cell_type": "code",
   "execution_count": null,
   "metadata": {},
   "outputs": [],
   "source": []
  },
  {
   "attachments": {},
   "cell_type": "markdown",
   "metadata": {},
   "source": [
    "**Perguntas**\n",
    "\n",
    "Dado o esquema genérico de criação, envio e consumo de mensagens e os códigos produzidos na aula anterior:\n",
    "\n",
    "![prefetch-count](https://s3-sa-east-1.amazonaws.com/lcpi/7cfc070b-dd79-4ec5-8d28-e15bd745e37f.png)\n",
    "\n",
    "\n",
    "1.  Explique por que o código anterior não satisfaz nosso requerimento atual.\n",
    "2.  Como você espera que o diagrama seja modificado?"
   ]
  },
  {
   "cell_type": "code",
   "execution_count": null,
   "metadata": {},
   "outputs": [],
   "source": []
  },
  {
   "attachments": {},
   "cell_type": "markdown",
   "metadata": {},
   "source": [
    "## Exchange"
   ]
  },
  {
   "cell_type": "markdown",
   "metadata": {},
   "source": [
    "Até agora, por motivos pedagógicos, entregamos mensagens diretamente para uma fila, porém, com frequência, o produtor não sabe da existência de filas específicas. \n",
    "\n"
   ]
  },
  {
   "attachments": {},
   "cell_type": "markdown",
   "metadata": {},
   "source": [
    "\n",
    "\n",
    "O produtor deve entregar as mensagens para um *exchange*. O *exchange* recebe mensagens de um produtor e as publica nas filas. Ele deve saber exatamente o que fazer com e para onde mandar cada mensagem!\n",
    "\n",
    "As regras que definem o que fazer com cada mensagem são definidas pelo *exchange_type*. Os quatro tipos disponíveis são:\n",
    "* direct\n",
    "* topic\n",
    "* headers\n",
    "* fanout\n",
    "\n",
    "![exchanges](https://s3-sa-east-1.amazonaws.com/lcpi/75dde901-20c9-49ee-ba81-f75f7ee04c57.png)"
   ]
  },
  {
   "attachments": {},
   "cell_type": "markdown",
   "metadata": {},
   "source": [
    "### fanout exchange\n"
   ]
  },
  {
   "attachments": {},
   "cell_type": "markdown",
   "metadata": {},
   "source": [
    "* Encaminha todas as mensagens que recebe para todas as filas que conhece!"
   ]
  },
  {
   "cell_type": "code",
   "execution_count": null,
   "metadata": {},
   "outputs": [],
   "source": []
  },
  {
   "attachments": {},
   "cell_type": "markdown",
   "metadata": {},
   "source": [
    "Para criarmos um exchange com nome `logs` do tipo `fanout` e publicarmos mensagens nele, utilizamos o código\n",
    "\n",
    "---\n",
    "`producer`\n",
    "```python\n",
    "# Define exchange name\n",
    "exchange_name = 'logs'\n",
    "\n",
    "# Declare exchange\n",
    "channel.exchange_declare(\n",
    "    exchange=exchange_name,\n",
    "    exchange_type='fanout'\n",
    ")\n",
    "\n",
    "# Publish message\n",
    "channel.basic_publish(\n",
    "    exchange=exchange_name,\n",
    "    routing_key='',\n",
    "    body=message\n",
    ")\n",
    "```\n",
    "\n",
    "---"
   ]
  },
  {
   "cell_type": "code",
   "execution_count": null,
   "metadata": {},
   "outputs": [],
   "source": []
  },
  {
   "attachments": {},
   "cell_type": "markdown",
   "metadata": {},
   "source": [
    "Para listar os exchanges existentes, use o comando\n",
    "\n",
    "---\n",
    "`terminal`\n",
    "```bash\n",
    "sudo rabbitmqctl list_exchanges\n",
    "```\n",
    "---"
   ]
  },
  {
   "cell_type": "code",
   "execution_count": null,
   "metadata": {},
   "outputs": [],
   "source": []
  },
  {
   "attachments": {},
   "cell_type": "markdown",
   "metadata": {},
   "source": [
    "**Perguntas** \n",
    "1. Quais as diferenças entre o código acima e o produtor da última aula? \n",
    "2. O que as `''` significam?\n",
    "3. Como conectar o consumidor ao servidor, se a fila não existe?"
   ]
  },
  {
   "cell_type": "code",
   "execution_count": null,
   "metadata": {},
   "outputs": [],
   "source": []
  },
  {
   "attachments": {},
   "cell_type": "markdown",
   "metadata": {},
   "source": [
    "## Temporary queues"
   ]
  },
  {
   "attachments": {},
   "cell_type": "markdown",
   "metadata": {},
   "source": [
    "Como nosso sistema de logs deve enviar mensagens para quem quiser recebe-las, independentemente do número de consumidores, o produtor não está vinculado a nenhuma fila específica. \n",
    "\n",
    "Contudo, o consumidor precisar se conectar ao servidor por meio de uma fila! Esse conexão é feita através de filas temporárias.\n",
    "\n",
    "\n",
    "As `''` indicam que o valor padrão deve ser usado, tanto no caso do exchange como das filas e, no caso das filas, o uso das aspas permite que o servidor crie um nome aleatório para elas. \n",
    "\n",
    "Para garantir a independência de nosso código com qualquer fila que possa ser criada, marcaremos essa fila como `exclusiva`, ou seja, ela deverá ser deletada uma vez que a conexão com o `consumidor` for encerrada!\n",
    "\n",
    "O código deverá ser alterado para\n",
    "\n",
    "---\n",
    "`consumer`\n",
    "```python\n",
    "# Declare a queue to consume messages from\n",
    "result = channel.queue_declare(queue='', exclusive=True)\n",
    "```\n",
    "---"
   ]
  },
  {
   "attachments": {},
   "cell_type": "markdown",
   "metadata": {},
   "source": [
    "O nome aleatório, gerado por esse código, se encontra armazenado em `result.method.queue` e, dessa forma, o nome de nossa fila pode ser definido e acessado por\n",
    "\n",
    "---\n",
    "```python\n",
    "# Define queue name\n",
    "queue_name = result.method.queue\n",
    "```\n",
    "---"
   ]
  },
  {
   "attachments": {},
   "cell_type": "markdown",
   "metadata": {},
   "source": [
    "Mais informações sobre [filas](https://www.rabbitmq.com/queues.html)."
   ]
  },
  {
   "cell_type": "code",
   "execution_count": null,
   "metadata": {},
   "outputs": [],
   "source": []
  },
  {
   "attachments": {},
   "cell_type": "markdown",
   "metadata": {},
   "source": [
    "**Perguntas**\n",
    "\n",
    "1. É suficiente apenas declarar a fila do lado do consumidor?\n",
    "2. Caso negativo, como associar a fila ao exchange?"
   ]
  },
  {
   "cell_type": "code",
   "execution_count": null,
   "metadata": {},
   "outputs": [],
   "source": []
  },
  {
   "attachments": {},
   "cell_type": "markdown",
   "metadata": {},
   "source": [
    "## Bindings"
   ]
  },
  {
   "attachments": {},
   "cell_type": "markdown",
   "metadata": {},
   "source": [
    "* São as relações entre *queues* e *exchanges*.\n",
    "* Em outras palavras: a *queue* está interessada em mensagens desse *exchange*. \n",
    "* Em português, ligações.\n",
    "\n",
    "![bindings](https://s3-sa-east-1.amazonaws.com/lcpi/12c70e98-c374-45ad-93a3-b8ecffac82bd.png)\n",
    "\n",
    "São declaradas no consumidor, por:\n",
    "\n",
    "---\n",
    "`consumer`\n",
    "```python\n",
    "# Declare queue bindings\n",
    "channel.queue_bind(\n",
    "    exchange='logs',\n",
    "    queue=queue_name\n",
    ")\n",
    "```\n",
    "---\n",
    "\n",
    "\n",
    "\n",
    "E para consultar as ligações ativas\n",
    "\n",
    "---\n",
    "`terminal`\n",
    "```bash\n",
    "sudo rabbitmqctl list_bindings\n",
    "```\n",
    "---"
   ]
  },
  {
   "cell_type": "code",
   "execution_count": null,
   "metadata": {},
   "outputs": [],
   "source": []
  },
  {
   "attachments": {},
   "cell_type": "markdown",
   "metadata": {},
   "source": [
    "**Exercício**\n",
    "---\n",
    "\n",
    "Faça o broadcast de mensagens 100_000 mensagens de log para $N$ consumidores interessados. Envie mensagens com intervalos de 1 s.\n",
    "\n",
    "![python-three-overall](https://s3-sa-east-1.amazonaws.com/lcpi/3db7ed3c-89e5-419d-a6f5-fa495a28caa0.png)\n",
    "\n",
    "1. Altere o producer da aula passada apropriadamente.\n",
    "2. Altere o consumer da aula passada para receber do *exchange*.\n",
    "3. Ligue o producer.\n",
    "4. Ligue um consumer.\n",
    "\n",
    "**Pergunta:** O consumer recebeu todas as mensagens esperadas?\n",
    "\n",
    "5. Ligue mais dois consumers.\n",
    "\n",
    "**Pergunta:** Os três consumers estão recebendo cópias da mesma mensagem?\n",
    "\n",
    "6. Desligue um consumer e religue-o em seguida.\n",
    "   \n",
    "**Pergunta:** As mensagens foram retomadas de onde o consumer havia sido interrompido? Por quê?\n"
   ]
  },
  {
   "cell_type": "markdown",
   "metadata": {},
   "source": []
  },
  {
   "attachments": {},
   "cell_type": "markdown",
   "metadata": {},
   "source": [
    "`producer`\n",
    "---\n",
    "```python\n",
    "import pika\n",
    "import datetime as dt\n",
    "import time\n",
    "import random\n",
    "\n",
    "# Establish a connection with RabbitMQ server\n",
    "connection = pika.BlockingConnection(\n",
    "    pika.ConnectionParameters('localhost')\n",
    ")\n",
    "\n",
    "# Create a channel\n",
    "channel = connection.channel()\n",
    "\n",
    "# Define exchange name\n",
    "exchange_name = 'logs'\n",
    "\n",
    "# Declare exchange\n",
    "channel.exchange_declare(\n",
    "    exchange=exchange_name,\n",
    "    exchange_type='fanout'\n",
    ")\n",
    "\n",
    "# Create and publish messages\n",
    "for i in range (100_000):\n",
    "\n",
    "    # Assemble message\n",
    "    time_stamp = dt.datetime.strftime(dt.datetime.now(), format='%Y-%m-%d %H:%M:%S.%f')\n",
    "    message = f'{time_stamp} {i:6} {\".\"*random.randint(1,10)}'\n",
    "\n",
    "    # Publish message\n",
    "    channel.basic_publish(\n",
    "        exchange='logs',\n",
    "        routing_key='',\n",
    "        body=message\n",
    "    )\n",
    "\n",
    "    time.sleep(1)\n",
    "\n",
    "    print(f\" [x] Sent {message}\")\n",
    "\n",
    "\n",
    "# Close the connection\n",
    "connection.close()\n",
    "```\n",
    "---"
   ]
  },
  {
   "attachments": {},
   "cell_type": "markdown",
   "metadata": {},
   "source": [
    "`consumer`\n",
    "---\n",
    "```python\n",
    "import pika\n",
    "import sys\n",
    "import os\n",
    "import time\n",
    "\n",
    "\n",
    "def main():\n",
    "    # Create a connection to the RabbitMQ server running on the local machine\n",
    "    connection = pika.BlockingConnection(pika.ConnectionParameters(host='localhost'))\n",
    "    channel = connection.channel()\n",
    "\n",
    "    # Declare a queue to consume messages from\n",
    "    result = channel.queue_declare(\n",
    "        queue='', \n",
    "        exclusive=True\n",
    "    )\n",
    "\n",
    "    # Define exchange and queue name s\n",
    "    exchange_name = 'logs'\n",
    "    queue_name = result.method.queue\n",
    "\n",
    "    # Declare queue bindings\n",
    "    channel.queue_bind(\n",
    "        exchange=exchange_name,\n",
    "        queue=queue_name\n",
    "    )\n",
    "\n",
    "    # Define a callback function to handle incoming messages\n",
    "    def callback(ch, method, properties, body):\n",
    "        print(f\" [x] Received {body}\")\n",
    "\n",
    "        # Simulate work being done on the message by sleeping for an amount of time\n",
    "        # time.sleep(body.count(b'.'))\n",
    "\n",
    "        print(\" [x] Done\")\n",
    "\n",
    "\n",
    "    channel.basic_consume(\n",
    "        queue=queue_name,\n",
    "        on_message_callback=callback,\n",
    "        auto_ack=True\n",
    "    )\n",
    "\n",
    "    # Start consuming messages from the queue\n",
    "    print(' [*] Waiting for messages. To exit press CTRL+C')\n",
    "    channel.start_consuming()\n",
    "\n",
    "\n",
    "if __name__ == '__main__':\n",
    "    try:\n",
    "        main()\n",
    "    except KeyboardInterrupt:\n",
    "        print('Interrupted')\n",
    "\n",
    "        # Attempt to exit gracefully\n",
    "        try:\n",
    "            sys.exit(0)\n",
    "        except SystemExit:\n",
    "            os._exit(0)\n",
    "```\n",
    "---"
   ]
  },
  {
   "cell_type": "code",
   "execution_count": null,
   "metadata": {},
   "outputs": [],
   "source": []
  },
  {
   "cell_type": "markdown",
   "metadata": {},
   "source": [
    "**Pergunta**\n",
    "\n",
    "É possível consumir apenas um subgrupo de mensagens?"
   ]
  },
  {
   "cell_type": "code",
   "execution_count": null,
   "metadata": {},
   "outputs": [],
   "source": []
  },
  {
   "attachments": {},
   "cell_type": "markdown",
   "metadata": {},
   "source": [
    "# Routing"
   ]
  },
  {
   "attachments": {},
   "cell_type": "markdown",
   "metadata": {},
   "source": [
    "Nosso sistema de logs acima transmite todas as mensagens para todos os consumidores.\n",
    "\n",
    "O próximo passo é permitir a filtragem de mensagens com base em sua gravidade (*severity*). \n",
    "\n",
    "Por exemplo, podemos definir que nosso script salve em disco apenas os logs críticos e passe adiante as mensagens menos graves."
   ]
  },
  {
   "cell_type": "code",
   "execution_count": null,
   "metadata": {},
   "outputs": [],
   "source": []
  },
  {
   "attachments": {},
   "cell_type": "markdown",
   "metadata": {},
   "source": [
    "Primeiramente, vamos adicionar um novo parâmetro à nossa ligação: `routing_key`. Esse parâmetro é definido por um *label* e seu funcionamento depende do *exchange_type*.\n",
    "\n",
    "No exemplo anterior, usamos `exchange_type = fanout`, caso em que a routing_key é ignorada.\n",
    "\n",
    "Por exemplo, o script do produtor pode ser alterado da seguinte maneira\n",
    "\n",
    "---\n",
    "`consumer`\n",
    "\n",
    "```python\n",
    "# Declare queue bindings\n",
    "channel.queue_bind(\n",
    "    exchange=exchange_name,\n",
    "    queue=queue_name,\n",
    "    routing_key='black'\n",
    ")\n",
    "```\n",
    "---"
   ]
  },
  {
   "cell_type": "code",
   "execution_count": null,
   "metadata": {},
   "outputs": [],
   "source": []
  },
  {
   "attachments": {},
   "cell_type": "markdown",
   "metadata": {},
   "source": [
    "### Direct exchange"
   ]
  },
  {
   "attachments": {},
   "cell_type": "markdown",
   "metadata": {},
   "source": [
    "* Manda mensagens para filas em que `routing_key = biding_key`.\n",
    "* Mensagens que não satisfazem esse critério são descartadas!"
   ]
  },
  {
   "attachments": {},
   "cell_type": "markdown",
   "metadata": {},
   "source": [
    "![direct-exchange](https://s3-sa-east-1.amazonaws.com/lcpi/92c49b1b-7e19-451a-999d-367996ffc485.png)"
   ]
  },
  {
   "attachments": {},
   "cell_type": "markdown",
   "metadata": {},
   "source": [
    "**Pergunta**\n",
    "\n",
    "Explique o diagrama acima."
   ]
  },
  {
   "cell_type": "code",
   "execution_count": null,
   "metadata": {},
   "outputs": [],
   "source": []
  },
  {
   "attachments": {},
   "cell_type": "markdown",
   "metadata": {},
   "source": [
    "`producer`\n",
    "\n",
    "---\n",
    "```python\n",
    "# Define exchange name\n",
    "exchange_name = 'direct_logs'\n",
    "\n",
    "# Declare exchange\n",
    "channel.exchange_declare(\n",
    "    exchange=exchange_name,\n",
    "    exchange_type='direct'\n",
    ")\n",
    "\n",
    "channel.basic_publish(\n",
    "    exchange=exchange_name,\n",
    "    routing_key=severity,\n",
    "    body=message\n",
    ")\n",
    "```\n",
    "---"
   ]
  },
  {
   "cell_type": "code",
   "execution_count": null,
   "metadata": {},
   "outputs": [],
   "source": []
  },
  {
   "attachments": {},
   "cell_type": "markdown",
   "metadata": {},
   "source": [
    "### Multiple bindings"
   ]
  },
  {
   "attachments": {},
   "cell_type": "markdown",
   "metadata": {},
   "source": [
    "* É possível ligar diferentes filas com a mesma *routing_key*.\n",
    "* O *exchange* encaminhará a mesma mensagem para todas elas."
   ]
  },
  {
   "attachments": {},
   "cell_type": "markdown",
   "metadata": {},
   "source": [
    "![direct-exchange-multiple](https://s3-sa-east-1.amazonaws.com/lcpi/d12cb388-593c-4f47-a853-92d272195504.png)"
   ]
  },
  {
   "cell_type": "code",
   "execution_count": null,
   "metadata": {},
   "outputs": [],
   "source": []
  },
  {
   "attachments": {},
   "cell_type": "markdown",
   "metadata": {},
   "source": [
    "**Exercício**\n",
    "---\n",
    "\n",
    "Faça o broadcast de 100_000 mensagens de log para $N$ consumidores interessados. \n",
    "\n",
    "Divida as mensagens em três grupos, baseados na prioridade do chamado: \n",
    "* error: prioridade 1 (`.`) ou 2 (`..`)\n",
    "* warning: prioridade 3 (`...`) ou 4(`....`)\n",
    "* info: others\n",
    "\n",
    "Consuma em duas filas (veja o diagrama abaixo):\n",
    "* uma deve receber apenas mensagens de erro e salvá-las em disco.  \n",
    "* a outra deve receber todas as mensagens.\n",
    "\n",
    "![python-four](https://s3-sa-east-1.amazonaws.com/lcpi/12c71ef5-d786-4dc1-baae-33d1a79e8a64.png)\n",
    "\n",
    "\n",
    "**Pergunta:** Quantos scripts de producer e consumer são necessários?\n",
    "\n",
    "1. Altere o producer anterior apropriadamente.\n",
    "2. Altere o consumer anterior apropriadamente.\n",
    "3. Ligue o producer.\n",
    "4. Ligue um consumer.\n",
    "\n",
    "**Pergunta:** O mesmo consumer lida com as duas filas?\n",
    "\n",
    "5. Ligue o segundo consumer.\n",
    "\n",
    "**Pergunta:** Ele apresenta o mesmo comportamento do primeiro?\n",
    "\n",
    "**Pergunta:** Quais as informações que o produtor precisa saber sobre o consumidor?\n",
    "\n",
    "**Pergunta:** Quais as informações que o consumidor precisa saber sobre o produtor?\n",
    "\n",
    "6. Desligue o produtor e os consumidores, coloque um sleep aleatório no processamento da mensagem recebida, ligue um consumidor, o produtor e em seguida outro consumidor.\n",
    "\n",
    "7. Liste as filas  no terminal.\n",
    "\n",
    "**Pergunta:** Explique o resultado observado."
   ]
  },
  {
   "attachments": {},
   "cell_type": "markdown",
   "metadata": {},
   "source": [
    "`producer`\n",
    "---"
   ]
  },
  {
   "attachments": {},
   "cell_type": "markdown",
   "metadata": {},
   "source": [
    "```python\n",
    "import pika\n",
    "import datetime as dt\n",
    "import time\n",
    "import random\n",
    "\n",
    "# Establish a connection with RabbitMQ server\n",
    "connection = pika.BlockingConnection(\n",
    "    pika.ConnectionParameters('localhost')\n",
    ")\n",
    "\n",
    "# Create a channel\n",
    "channel = connection.channel()\n",
    "\n",
    "# Define exchange name\n",
    "exchange_name = 'direct_logs'\n",
    "\n",
    "# Declare exchange\n",
    "channel.exchange_declare(\n",
    "    exchange=exchange_name,\n",
    "    exchange_type='direct'\n",
    ")\n",
    "\n",
    "\n",
    "# Create and publish messages\n",
    "for i in range (100_000):\n",
    "\n",
    "    # Assemble message\n",
    "    time_stamp = dt.datetime.strftime(dt.datetime.now(), format='%Y-%m-%d %H:%M:%S.%f')\n",
    "    message = f'{time_stamp} {i:6} {\".\"*random.randint(1,10)}'\n",
    "\n",
    "    priority = message.count('.') - 1\n",
    "\n",
    "    if priority in [1,2]:\n",
    "        severity = 'error'\n",
    "    elif priority in [3,4]:\n",
    "        severity = 'warning'\n",
    "    else:\n",
    "        severity = 'info'\n",
    "\n",
    "    # Publish message\n",
    "    channel.basic_publish(\n",
    "        exchange=exchange_name,\n",
    "        routing_key=severity,\n",
    "        body=message\n",
    "    )\n",
    "\n",
    "    time.sleep(1)\n",
    "\n",
    "    print(f\" [x] Sent {message}\")\n",
    "\n",
    "\n",
    "# Close the connection\n",
    "connection.close()\n",
    "```"
   ]
  },
  {
   "cell_type": "code",
   "execution_count": null,
   "metadata": {},
   "outputs": [],
   "source": []
  },
  {
   "attachments": {},
   "cell_type": "markdown",
   "metadata": {},
   "source": [
    "`consumer`\n",
    "---"
   ]
  },
  {
   "attachments": {},
   "cell_type": "markdown",
   "metadata": {},
   "source": [
    "```python\n",
    "import pika\n",
    "import sys\n",
    "import os\n",
    "import time\n",
    "\n",
    "\n",
    "def main():\n",
    "    # Create a connection to the RabbitMQ server running on the local machine\n",
    "    connection = pika.BlockingConnection(pika.ConnectionParameters(host='localhost'))\n",
    "    channel = connection.channel()\n",
    "\n",
    "    # Declare a queue to consume messages from\n",
    "    result = channel.queue_declare(\n",
    "        queue='', \n",
    "        exclusive=True\n",
    "    )\n",
    "\n",
    "    # Define exchange and queue name s\n",
    "    exchange_name = 'direct_logs'\n",
    "    queue_name = result.method.queue\n",
    "\n",
    "    # Declare exchange\n",
    "    channel.exchange_declare(\n",
    "        exchange=exchange_name,\n",
    "        exchange_type='direct'\n",
    "    )\n",
    "\n",
    "    # Declare queue bindings\n",
    "    severities = ['error', 'warning', 'info']\n",
    "    # severities = ['error'] # for errors only channel\n",
    "    \n",
    "    for severity in severities:\n",
    "        channel.queue_bind(\n",
    "            exchange=exchange_name,\n",
    "            queue=queue_name,\n",
    "            routing_key=severity\n",
    "        )\n",
    "\n",
    "    # Define a callback function to handle incoming messages\n",
    "    def callback(ch, method, properties, body):\n",
    "        print(f\" [x] Received {body}\")\n",
    "        print(f\"{method.routing_key}\")\n",
    "\n",
    "        ## For error only channel \n",
    "        # with open('logs/direct_log_errors.txt', 'a') as f:\n",
    "        #     f.write(f'{body} \\n')\n",
    "        \n",
    "        # print('[X] Done.')\n",
    "\n",
    "\n",
    "    channel.basic_consume(\n",
    "        queue=queue_name,\n",
    "        on_message_callback=callback,\n",
    "        auto_ack=True\n",
    "    )\n",
    "\n",
    "    # Start consuming messages from the queue\n",
    "    print(' [*] Waiting for messages. To exit press CTRL+C')\n",
    "    channel.start_consuming()\n",
    "\n",
    "\n",
    "if __name__ == '__main__':\n",
    "    try:\n",
    "        main()\n",
    "    except KeyboardInterrupt:\n",
    "        print('Interrupted')\n",
    "\n",
    "        # Attempt to exit gracefully\n",
    "        try:\n",
    "            sys.exit(0)\n",
    "        except SystemExit:\n",
    "            os._exit(0)\n",
    "```"
   ]
  },
  {
   "cell_type": "code",
   "execution_count": null,
   "metadata": {},
   "outputs": [],
   "source": []
  },
  {
   "attachments": {},
   "cell_type": "markdown",
   "metadata": {},
   "source": [
    "**Pergunta:** Seria possível flexibilizar ainda mais o roteamento de mensagens e usar padrões para decidir quais mensagens receber? "
   ]
  },
  {
   "cell_type": "code",
   "execution_count": null,
   "metadata": {},
   "outputs": [],
   "source": []
  },
  {
   "attachments": {},
   "cell_type": "markdown",
   "metadata": {},
   "source": [
    "# Topics"
   ]
  },
  {
   "attachments": {},
   "cell_type": "markdown",
   "metadata": {},
   "source": [
    "* Permitem roteamento com critérios múltiplos"
   ]
  },
  {
   "cell_type": "code",
   "execution_count": null,
   "metadata": {},
   "outputs": [],
   "source": []
  },
  {
   "attachments": {},
   "cell_type": "markdown",
   "metadata": {},
   "source": [
    "## Topic exchange"
   ]
  },
  {
   "attachments": {},
   "cell_type": "markdown",
   "metadata": {},
   "source": [
    "A *routing_key* apresenta um padrão específico, composto por `strings` e `.` . Exemplos:\n",
    "* stock.usd.nyse\n",
    "* quick.orange.rabbit\n",
    "* frutas.bananas\n",
    "* etc\n",
    "\n",
    "A regra de composição de nomes tem dois coringas (*wildcards*):\n",
    "* `*`: substitui exatamente uma palavra\n",
    "* `#`: substitui zero ou mais palavras\n",
    "\n",
    "\n",
    "Exemplo gráfico:\n",
    "\n",
    "![python-five](https://s3-sa-east-1.amazonaws.com/lcpi/2c9dfa2e-88ce-4a5a-8636-dc420217642e.png)"
   ]
  },
  {
   "attachments": {},
   "cell_type": "markdown",
   "metadata": {},
   "source": [
    "**Pergunta:** Explique o diagrama acima!\n",
    "\n",
    "**Pergunta:** Em qual fila e rota serão entregues as mensagens com tópicos\n",
    "1. quick.orange.rabbit\n",
    "   * C1  *.orange.* \n",
    "   * C2  #.rabbit\n",
    "2. lazy.orange.elephant \n",
    "   * C1 e C2\n",
    "3. quick.orange.fox \n",
    "   * C1\n",
    "4. lazy.brown.fox \n",
    "   * C2\n",
    "5. lazy.pink.rabbit \n",
    "   * C2\n",
    "6. quick.brown.fox \n",
    "   * perdeu....\n",
    "7. orange \n",
    "   * perdeu....\n",
    "8. lazy.orange.new.rabbit \n",
    "   * C2"
   ]
  },
  {
   "cell_type": "code",
   "execution_count": null,
   "metadata": {},
   "outputs": [],
   "source": []
  },
  {
   "attachments": {},
   "cell_type": "markdown",
   "metadata": {},
   "source": [
    "**Exercício**\n",
    "\n",
    "Supondo que nosso `produtor` envie mensagens para tópicos no padrão `<facility>.<severity>`, como devem ser as rotas dos consumidores para receberem:\n",
    "\n",
    "1. Todos os logs? \n",
    "   * `#` ou `*.*`\n",
    "2. Todos os logs do *facility* `kern`? \n",
    "   * `kern.*`ou `kern.#`\n",
    "3. Apenas logs com *severity* `critical`?\n",
    "   * `*.critical` ou `#.critical`\n",
    "4. Logs dos dois itens acima?\n",
    "   * `\"kern.*\" \"*.critical\"`\n",
    "5. Em quais `rotas` a mensagem de exemplo do produtor abaixo será entregue (rota \"kern.critical\")? \n",
    "   * Todas\n",
    "\n",
    "Use os produtores e consumidores abaixo para testar suas repostas! \n",
    "\n",
    "Exemplos de uso dos códigos:\n",
    "\n",
    "\n",
    "---\n",
    "`producer`\n",
    "```python\n",
    "python emit_log_topic.py \"kern.critical\" \"A critical kernel error\"\n",
    "```\n",
    "---\n",
    "\n",
    "---\n",
    "`consumer`\n",
    "```python\n",
    "python receive_logs_topic.py \"#\"\n",
    "```\n",
    "---\n",
    "\n"
   ]
  },
  {
   "cell_type": "code",
   "execution_count": null,
   "metadata": {},
   "outputs": [],
   "source": []
  },
  {
   "attachments": {},
   "cell_type": "markdown",
   "metadata": {},
   "source": [
    "`producer: emit_log_topic.py`\n",
    "---\n",
    "```python\n",
    "import pika\n",
    "import sys\n",
    "\n",
    "connection = pika.BlockingConnection(\n",
    "    pika.ConnectionParameters(host='localhost'))\n",
    "channel = connection.channel()\n",
    "\n",
    "channel.exchange_declare(exchange='topic_logs', exchange_type='topic')\n",
    "\n",
    "routing_key = sys.argv[1] if len(sys.argv) > 2 else 'anonymous.info'\n",
    "message = ' '.join(sys.argv[2:]) or 'Hello World!'\n",
    "channel.basic_publish(\n",
    "    exchange='topic_logs', routing_key=routing_key, body=message)\n",
    "print(\" [x] Sent %r:%r\" % (routing_key, message))\n",
    "connection.close()\n",
    "```\n",
    "---\n"
   ]
  },
  {
   "cell_type": "code",
   "execution_count": null,
   "metadata": {},
   "outputs": [],
   "source": []
  },
  {
   "attachments": {},
   "cell_type": "markdown",
   "metadata": {},
   "source": [
    "\n",
    "`consumer: receive_logs_topic.py`\n",
    "---\n",
    "```python\n",
    "import pika\n",
    "import sys\n",
    "\n",
    "connection = pika.BlockingConnection(\n",
    "    pika.ConnectionParameters(host='localhost'))\n",
    "channel = connection.channel()\n",
    "\n",
    "channel.exchange_declare(exchange='topic_logs', exchange_type='topic')\n",
    "\n",
    "result = channel.queue_declare('', exclusive=True)\n",
    "queue_name = result.method.queue\n",
    "\n",
    "binding_keys = sys.argv[1:]\n",
    "if not binding_keys:\n",
    "    sys.stderr.write(\"Usage: %s [binding_key]...\\n\" % sys.argv[0])\n",
    "    sys.exit(1)\n",
    "\n",
    "for binding_key in binding_keys:\n",
    "    channel.queue_bind(\n",
    "        exchange='topic_logs', queue=queue_name, routing_key=binding_key)\n",
    "\n",
    "print(' [*] Waiting for logs. To exit press CTRL+C')\n",
    "\n",
    "\n",
    "def callback(ch, method, properties, body):\n",
    "    print(\" [x] %r:%r\" % (method.routing_key, body))\n",
    "\n",
    "\n",
    "channel.basic_consume(\n",
    "    queue=queue_name, on_message_callback=callback, auto_ack=True)\n",
    "\n",
    "channel.start_consuming()\n",
    "```\n",
    "---"
   ]
  },
  {
   "attachments": {},
   "cell_type": "markdown",
   "metadata": {},
   "source": [
    "Para mais informações, consulte a [documentação](https://www.rabbitmq.com/tutorials/tutorial-five-python.html)."
   ]
  },
  {
   "cell_type": "code",
   "execution_count": null,
   "metadata": {},
   "outputs": [],
   "source": []
  },
  {
   "attachments": {},
   "cell_type": "markdown",
   "metadata": {},
   "source": [
    "# Monitoring"
   ]
  },
  {
   "attachments": {},
   "cell_type": "markdown",
   "metadata": {},
   "source": [
    "Existem algumas ferramentas para monitorar o status do recebimento e entrega de mensagens. Veja as opções na [documentação](https://www.rabbitmq.com/monitoring.html).\n",
    " "
   ]
  },
  {
   "attachments": {},
   "cell_type": "markdown",
   "metadata": {},
   "source": [
    "## Monitoring using Management Plugin"
   ]
  },
  {
   "attachments": {},
   "cell_type": "markdown",
   "metadata": {},
   "source": [
    "1. Habilite o plugin\n",
    "   \n",
    "   ```bash\n",
    "        sudo rabbitmq-plugins enable rabbitmq_management\n",
    "   ```\n",
    "\n",
    "1. Crie um usuário e senha\n",
    "\n",
    "   ```bash\n",
    "        sudo rabbitmqctl add_user <username> <password>\n",
    "   ```\n",
    "\n",
    "1. De permissões de administrador para seu usuário  \n",
    "\n",
    "   ```bash\n",
    "        sudo rabbitmqctl set_user_tags <username> administrator\n",
    "\n",
    "   ```\n",
    "\n",
    "1. Acesse\n",
    "   \n",
    "   http://localhost:15672/#/\n"
   ]
  },
  {
   "cell_type": "markdown",
   "metadata": {},
   "source": []
  },
  {
   "cell_type": "markdown",
   "metadata": {},
   "source": []
  }
 ],
 "metadata": {
  "kernelspec": {
   "display_name": "Python 3",
   "language": "python",
   "name": "python3"
  },
  "language_info": {
   "codemirror_mode": {
    "name": "ipython",
    "version": 3
   },
   "file_extension": ".py",
   "mimetype": "text/x-python",
   "name": "python",
   "nbconvert_exporter": "python",
   "pygments_lexer": "ipython3",
   "version": "3.9.13"
  },
  "orig_nbformat": 4
 },
 "nbformat": 4,
 "nbformat_minor": 2
}
